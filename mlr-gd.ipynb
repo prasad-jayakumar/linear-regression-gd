{
  "nbformat": 4,
  "nbformat_minor": 0,
  "metadata": {
    "colab": {
      "provenance": []
    },
    "kernelspec": {
      "name": "python3",
      "display_name": "Python 3"
    },
    "language_info": {
      "name": "python"
    }
  },
  "cells": [
    {
      "cell_type": "code",
      "execution_count": null,
      "metadata": {
        "colab": {
          "base_uri": "https://localhost:8080/"
        },
        "id": "praqhtKmlHzH",
        "outputId": "5e25bbde-f50d-4f74-8e22-c152a77bd097"
      },
      "outputs": [
        {
          "output_type": "stream",
          "name": "stdout",
          "text": [
            "Mounted at /content/drive\n"
          ]
        }
      ],
      "source": [
        "from google.colab import drive\n",
        "drive.mount('/content/drive')"
      ]
    },
    {
      "cell_type": "code",
      "source": [
        "##Importing necessary libraries\n",
        "import pandas as pd\n",
        "import numpy as np\n",
        "import matplotlib.pyplot as plt\n",
        "from sklearn.model_selection import train_test_split\n",
        "from sklearn.preprocessing import StandardScaler\n",
        "import seaborn as sns\n",
        "from scipy import stats"
      ],
      "metadata": {
        "id": "6C5wBc1slybq"
      },
      "execution_count": null,
      "outputs": []
    },
    {
      "cell_type": "code",
      "source": [
        "##load the dataset from gdrive\n",
        "df_orig = pd.read_csv(\"/content/drive/MyDrive/msda/1st sem/math/Assignment-4/50_Startups.csv\")"
      ],
      "metadata": {
        "id": "5dDWFSqgl1SO"
      },
      "execution_count": null,
      "outputs": []
    },
    {
      "cell_type": "code",
      "source": [
        "df = df_orig.copy()"
      ],
      "metadata": {
        "id": "NqTidJbzMt2o"
      },
      "execution_count": null,
      "outputs": []
    },
    {
      "cell_type": "code",
      "source": [
        "df.head()"
      ],
      "metadata": {
        "colab": {
          "base_uri": "https://localhost:8080/",
          "height": 206
        },
        "id": "Itw-64GqmWve",
        "outputId": "74869a49-d590-450f-ce9b-1cfa748cac6b"
      },
      "execution_count": null,
      "outputs": [
        {
          "output_type": "execute_result",
          "data": {
            "text/plain": [
              "   R&D Spend  Administration  Marketing Spend       State     Profit\n",
              "0  165349.20       136897.80        471784.10    New York  192261.83\n",
              "1  162597.70       151377.59        443898.53  California  191792.06\n",
              "2  153441.51       101145.55        407934.54     Florida  191050.39\n",
              "3  144372.41       118671.85        383199.62    New York  182901.99\n",
              "4  142107.34        91391.77        366168.42     Florida  166187.94"
            ],
            "text/html": [
              "\n",
              "  <div id=\"df-cc2de62e-8af3-4823-95f4-f85f7e78ceb9\">\n",
              "    <div class=\"colab-df-container\">\n",
              "      <div>\n",
              "<style scoped>\n",
              "    .dataframe tbody tr th:only-of-type {\n",
              "        vertical-align: middle;\n",
              "    }\n",
              "\n",
              "    .dataframe tbody tr th {\n",
              "        vertical-align: top;\n",
              "    }\n",
              "\n",
              "    .dataframe thead th {\n",
              "        text-align: right;\n",
              "    }\n",
              "</style>\n",
              "<table border=\"1\" class=\"dataframe\">\n",
              "  <thead>\n",
              "    <tr style=\"text-align: right;\">\n",
              "      <th></th>\n",
              "      <th>R&amp;D Spend</th>\n",
              "      <th>Administration</th>\n",
              "      <th>Marketing Spend</th>\n",
              "      <th>State</th>\n",
              "      <th>Profit</th>\n",
              "    </tr>\n",
              "  </thead>\n",
              "  <tbody>\n",
              "    <tr>\n",
              "      <th>0</th>\n",
              "      <td>165349.20</td>\n",
              "      <td>136897.80</td>\n",
              "      <td>471784.10</td>\n",
              "      <td>New York</td>\n",
              "      <td>192261.83</td>\n",
              "    </tr>\n",
              "    <tr>\n",
              "      <th>1</th>\n",
              "      <td>162597.70</td>\n",
              "      <td>151377.59</td>\n",
              "      <td>443898.53</td>\n",
              "      <td>California</td>\n",
              "      <td>191792.06</td>\n",
              "    </tr>\n",
              "    <tr>\n",
              "      <th>2</th>\n",
              "      <td>153441.51</td>\n",
              "      <td>101145.55</td>\n",
              "      <td>407934.54</td>\n",
              "      <td>Florida</td>\n",
              "      <td>191050.39</td>\n",
              "    </tr>\n",
              "    <tr>\n",
              "      <th>3</th>\n",
              "      <td>144372.41</td>\n",
              "      <td>118671.85</td>\n",
              "      <td>383199.62</td>\n",
              "      <td>New York</td>\n",
              "      <td>182901.99</td>\n",
              "    </tr>\n",
              "    <tr>\n",
              "      <th>4</th>\n",
              "      <td>142107.34</td>\n",
              "      <td>91391.77</td>\n",
              "      <td>366168.42</td>\n",
              "      <td>Florida</td>\n",
              "      <td>166187.94</td>\n",
              "    </tr>\n",
              "  </tbody>\n",
              "</table>\n",
              "</div>\n",
              "      <button class=\"colab-df-convert\" onclick=\"convertToInteractive('df-cc2de62e-8af3-4823-95f4-f85f7e78ceb9')\"\n",
              "              title=\"Convert this dataframe to an interactive table.\"\n",
              "              style=\"display:none;\">\n",
              "        \n",
              "  <svg xmlns=\"http://www.w3.org/2000/svg\" height=\"24px\"viewBox=\"0 0 24 24\"\n",
              "       width=\"24px\">\n",
              "    <path d=\"M0 0h24v24H0V0z\" fill=\"none\"/>\n",
              "    <path d=\"M18.56 5.44l.94 2.06.94-2.06 2.06-.94-2.06-.94-.94-2.06-.94 2.06-2.06.94zm-11 1L8.5 8.5l.94-2.06 2.06-.94-2.06-.94L8.5 2.5l-.94 2.06-2.06.94zm10 10l.94 2.06.94-2.06 2.06-.94-2.06-.94-.94-2.06-.94 2.06-2.06.94z\"/><path d=\"M17.41 7.96l-1.37-1.37c-.4-.4-.92-.59-1.43-.59-.52 0-1.04.2-1.43.59L10.3 9.45l-7.72 7.72c-.78.78-.78 2.05 0 2.83L4 21.41c.39.39.9.59 1.41.59.51 0 1.02-.2 1.41-.59l7.78-7.78 2.81-2.81c.8-.78.8-2.07 0-2.86zM5.41 20L4 18.59l7.72-7.72 1.47 1.35L5.41 20z\"/>\n",
              "  </svg>\n",
              "      </button>\n",
              "      \n",
              "  <style>\n",
              "    .colab-df-container {\n",
              "      display:flex;\n",
              "      flex-wrap:wrap;\n",
              "      gap: 12px;\n",
              "    }\n",
              "\n",
              "    .colab-df-convert {\n",
              "      background-color: #E8F0FE;\n",
              "      border: none;\n",
              "      border-radius: 50%;\n",
              "      cursor: pointer;\n",
              "      display: none;\n",
              "      fill: #1967D2;\n",
              "      height: 32px;\n",
              "      padding: 0 0 0 0;\n",
              "      width: 32px;\n",
              "    }\n",
              "\n",
              "    .colab-df-convert:hover {\n",
              "      background-color: #E2EBFA;\n",
              "      box-shadow: 0px 1px 2px rgba(60, 64, 67, 0.3), 0px 1px 3px 1px rgba(60, 64, 67, 0.15);\n",
              "      fill: #174EA6;\n",
              "    }\n",
              "\n",
              "    [theme=dark] .colab-df-convert {\n",
              "      background-color: #3B4455;\n",
              "      fill: #D2E3FC;\n",
              "    }\n",
              "\n",
              "    [theme=dark] .colab-df-convert:hover {\n",
              "      background-color: #434B5C;\n",
              "      box-shadow: 0px 1px 3px 1px rgba(0, 0, 0, 0.15);\n",
              "      filter: drop-shadow(0px 1px 2px rgba(0, 0, 0, 0.3));\n",
              "      fill: #FFFFFF;\n",
              "    }\n",
              "  </style>\n",
              "\n",
              "      <script>\n",
              "        const buttonEl =\n",
              "          document.querySelector('#df-cc2de62e-8af3-4823-95f4-f85f7e78ceb9 button.colab-df-convert');\n",
              "        buttonEl.style.display =\n",
              "          google.colab.kernel.accessAllowed ? 'block' : 'none';\n",
              "\n",
              "        async function convertToInteractive(key) {\n",
              "          const element = document.querySelector('#df-cc2de62e-8af3-4823-95f4-f85f7e78ceb9');\n",
              "          const dataTable =\n",
              "            await google.colab.kernel.invokeFunction('convertToInteractive',\n",
              "                                                     [key], {});\n",
              "          if (!dataTable) return;\n",
              "\n",
              "          const docLinkHtml = 'Like what you see? Visit the ' +\n",
              "            '<a target=\"_blank\" href=https://colab.research.google.com/notebooks/data_table.ipynb>data table notebook</a>'\n",
              "            + ' to learn more about interactive tables.';\n",
              "          element.innerHTML = '';\n",
              "          dataTable['output_type'] = 'display_data';\n",
              "          await google.colab.output.renderOutput(dataTable, element);\n",
              "          const docLink = document.createElement('div');\n",
              "          docLink.innerHTML = docLinkHtml;\n",
              "          element.appendChild(docLink);\n",
              "        }\n",
              "      </script>\n",
              "    </div>\n",
              "  </div>\n",
              "  "
            ]
          },
          "metadata": {},
          "execution_count": 76
        }
      ]
    },
    {
      "cell_type": "markdown",
      "source": [
        "## Split the dataset into training and test sets of 80:20 ratio (use random_seed = 2023) and test_size = 0.20. You must train the linear regression model using the training data and will compute 𝑅2 and MSE using the test dataset."
      ],
      "metadata": {
        "id": "9deELZ2Z3kXq"
      }
    },
    {
      "cell_type": "code",
      "source": [
        "X = df.drop(['Profit'], axis=1)\n",
        "y = df['Profit']\n",
        "print(X.shape)\n",
        "print(y.shape)"
      ],
      "metadata": {
        "colab": {
          "base_uri": "https://localhost:8080/"
        },
        "id": "_zFq3Yokm95A",
        "outputId": "a93d7989-c777-45bc-9570-6ce2da46e293"
      },
      "execution_count": null,
      "outputs": [
        {
          "output_type": "stream",
          "name": "stdout",
          "text": [
            "(50, 4)\n",
            "(50,)\n"
          ]
        }
      ]
    },
    {
      "cell_type": "code",
      "source": [
        "X = pd.get_dummies(X, columns=['State'], drop_first=True)"
      ],
      "metadata": {
        "id": "xbLcMad0IBhZ"
      },
      "execution_count": null,
      "outputs": []
    },
    {
      "cell_type": "code",
      "source": [
        "X.head()"
      ],
      "metadata": {
        "colab": {
          "base_uri": "https://localhost:8080/",
          "height": 206
        },
        "id": "hhBPIWC5rrCe",
        "outputId": "6edfe6a2-939f-4b86-970f-dbaca2e9434e"
      },
      "execution_count": null,
      "outputs": [
        {
          "output_type": "execute_result",
          "data": {
            "text/plain": [
              "   R&D Spend  Administration  Marketing Spend  State_Florida  State_New York\n",
              "0  165349.20       136897.80        471784.10              0               1\n",
              "1  162597.70       151377.59        443898.53              0               0\n",
              "2  153441.51       101145.55        407934.54              1               0\n",
              "3  144372.41       118671.85        383199.62              0               1\n",
              "4  142107.34        91391.77        366168.42              1               0"
            ],
            "text/html": [
              "\n",
              "  <div id=\"df-87fa2296-76e1-4e55-9b54-4d010fb2d9c0\">\n",
              "    <div class=\"colab-df-container\">\n",
              "      <div>\n",
              "<style scoped>\n",
              "    .dataframe tbody tr th:only-of-type {\n",
              "        vertical-align: middle;\n",
              "    }\n",
              "\n",
              "    .dataframe tbody tr th {\n",
              "        vertical-align: top;\n",
              "    }\n",
              "\n",
              "    .dataframe thead th {\n",
              "        text-align: right;\n",
              "    }\n",
              "</style>\n",
              "<table border=\"1\" class=\"dataframe\">\n",
              "  <thead>\n",
              "    <tr style=\"text-align: right;\">\n",
              "      <th></th>\n",
              "      <th>R&amp;D Spend</th>\n",
              "      <th>Administration</th>\n",
              "      <th>Marketing Spend</th>\n",
              "      <th>State_Florida</th>\n",
              "      <th>State_New York</th>\n",
              "    </tr>\n",
              "  </thead>\n",
              "  <tbody>\n",
              "    <tr>\n",
              "      <th>0</th>\n",
              "      <td>165349.20</td>\n",
              "      <td>136897.80</td>\n",
              "      <td>471784.10</td>\n",
              "      <td>0</td>\n",
              "      <td>1</td>\n",
              "    </tr>\n",
              "    <tr>\n",
              "      <th>1</th>\n",
              "      <td>162597.70</td>\n",
              "      <td>151377.59</td>\n",
              "      <td>443898.53</td>\n",
              "      <td>0</td>\n",
              "      <td>0</td>\n",
              "    </tr>\n",
              "    <tr>\n",
              "      <th>2</th>\n",
              "      <td>153441.51</td>\n",
              "      <td>101145.55</td>\n",
              "      <td>407934.54</td>\n",
              "      <td>1</td>\n",
              "      <td>0</td>\n",
              "    </tr>\n",
              "    <tr>\n",
              "      <th>3</th>\n",
              "      <td>144372.41</td>\n",
              "      <td>118671.85</td>\n",
              "      <td>383199.62</td>\n",
              "      <td>0</td>\n",
              "      <td>1</td>\n",
              "    </tr>\n",
              "    <tr>\n",
              "      <th>4</th>\n",
              "      <td>142107.34</td>\n",
              "      <td>91391.77</td>\n",
              "      <td>366168.42</td>\n",
              "      <td>1</td>\n",
              "      <td>0</td>\n",
              "    </tr>\n",
              "  </tbody>\n",
              "</table>\n",
              "</div>\n",
              "      <button class=\"colab-df-convert\" onclick=\"convertToInteractive('df-87fa2296-76e1-4e55-9b54-4d010fb2d9c0')\"\n",
              "              title=\"Convert this dataframe to an interactive table.\"\n",
              "              style=\"display:none;\">\n",
              "        \n",
              "  <svg xmlns=\"http://www.w3.org/2000/svg\" height=\"24px\"viewBox=\"0 0 24 24\"\n",
              "       width=\"24px\">\n",
              "    <path d=\"M0 0h24v24H0V0z\" fill=\"none\"/>\n",
              "    <path d=\"M18.56 5.44l.94 2.06.94-2.06 2.06-.94-2.06-.94-.94-2.06-.94 2.06-2.06.94zm-11 1L8.5 8.5l.94-2.06 2.06-.94-2.06-.94L8.5 2.5l-.94 2.06-2.06.94zm10 10l.94 2.06.94-2.06 2.06-.94-2.06-.94-.94-2.06-.94 2.06-2.06.94z\"/><path d=\"M17.41 7.96l-1.37-1.37c-.4-.4-.92-.59-1.43-.59-.52 0-1.04.2-1.43.59L10.3 9.45l-7.72 7.72c-.78.78-.78 2.05 0 2.83L4 21.41c.39.39.9.59 1.41.59.51 0 1.02-.2 1.41-.59l7.78-7.78 2.81-2.81c.8-.78.8-2.07 0-2.86zM5.41 20L4 18.59l7.72-7.72 1.47 1.35L5.41 20z\"/>\n",
              "  </svg>\n",
              "      </button>\n",
              "      \n",
              "  <style>\n",
              "    .colab-df-container {\n",
              "      display:flex;\n",
              "      flex-wrap:wrap;\n",
              "      gap: 12px;\n",
              "    }\n",
              "\n",
              "    .colab-df-convert {\n",
              "      background-color: #E8F0FE;\n",
              "      border: none;\n",
              "      border-radius: 50%;\n",
              "      cursor: pointer;\n",
              "      display: none;\n",
              "      fill: #1967D2;\n",
              "      height: 32px;\n",
              "      padding: 0 0 0 0;\n",
              "      width: 32px;\n",
              "    }\n",
              "\n",
              "    .colab-df-convert:hover {\n",
              "      background-color: #E2EBFA;\n",
              "      box-shadow: 0px 1px 2px rgba(60, 64, 67, 0.3), 0px 1px 3px 1px rgba(60, 64, 67, 0.15);\n",
              "      fill: #174EA6;\n",
              "    }\n",
              "\n",
              "    [theme=dark] .colab-df-convert {\n",
              "      background-color: #3B4455;\n",
              "      fill: #D2E3FC;\n",
              "    }\n",
              "\n",
              "    [theme=dark] .colab-df-convert:hover {\n",
              "      background-color: #434B5C;\n",
              "      box-shadow: 0px 1px 3px 1px rgba(0, 0, 0, 0.15);\n",
              "      filter: drop-shadow(0px 1px 2px rgba(0, 0, 0, 0.3));\n",
              "      fill: #FFFFFF;\n",
              "    }\n",
              "  </style>\n",
              "\n",
              "      <script>\n",
              "        const buttonEl =\n",
              "          document.querySelector('#df-87fa2296-76e1-4e55-9b54-4d010fb2d9c0 button.colab-df-convert');\n",
              "        buttonEl.style.display =\n",
              "          google.colab.kernel.accessAllowed ? 'block' : 'none';\n",
              "\n",
              "        async function convertToInteractive(key) {\n",
              "          const element = document.querySelector('#df-87fa2296-76e1-4e55-9b54-4d010fb2d9c0');\n",
              "          const dataTable =\n",
              "            await google.colab.kernel.invokeFunction('convertToInteractive',\n",
              "                                                     [key], {});\n",
              "          if (!dataTable) return;\n",
              "\n",
              "          const docLinkHtml = 'Like what you see? Visit the ' +\n",
              "            '<a target=\"_blank\" href=https://colab.research.google.com/notebooks/data_table.ipynb>data table notebook</a>'\n",
              "            + ' to learn more about interactive tables.';\n",
              "          element.innerHTML = '';\n",
              "          dataTable['output_type'] = 'display_data';\n",
              "          await google.colab.output.renderOutput(dataTable, element);\n",
              "          const docLink = document.createElement('div');\n",
              "          docLink.innerHTML = docLinkHtml;\n",
              "          element.appendChild(docLink);\n",
              "        }\n",
              "      </script>\n",
              "    </div>\n",
              "  </div>\n",
              "  "
            ]
          },
          "metadata": {},
          "execution_count": 79
        }
      ]
    },
    {
      "cell_type": "code",
      "source": [
        "X_train, X_test, y_train, y_test = train_test_split(X, y, test_size=0.20, random_state=2023)"
      ],
      "metadata": {
        "id": "EYrNQf8QnHjF"
      },
      "execution_count": null,
      "outputs": []
    },
    {
      "cell_type": "code",
      "source": [
        "print(X_train.shape)\n",
        "print(X_test.shape)\n",
        "print(y_train.shape)\n",
        "print(y_test.shape)"
      ],
      "metadata": {
        "colab": {
          "base_uri": "https://localhost:8080/"
        },
        "id": "kgHwZKtEnvRA",
        "outputId": "a531c757-0901-42cf-a17b-40d5f6709350"
      },
      "execution_count": null,
      "outputs": [
        {
          "output_type": "stream",
          "name": "stdout",
          "text": [
            "(40, 5)\n",
            "(10, 5)\n",
            "(40,)\n",
            "(10,)\n"
          ]
        }
      ]
    },
    {
      "cell_type": "markdown",
      "source": [
        "## Problem 1 (Coding) 12 pts: Perform Multiple linear regression using gradient descent optimization technique.Youmustnotuseanydirectpackageforthis. Youshouldgeneratetheparameters (intercepts & coefficients) initial values from standard normal distribution. Set initial learning rate and number of iterations to 0.001 and 100, respectively."
      ],
      "metadata": {
        "id": "j2vUJF853mqZ"
      }
    },
    {
      "cell_type": "markdown",
      "source": [
        "a. (2 pts) Mention: loss function, initial values of parameters (generated from STD), hyperparameters, and partial derivatives of the loss function with respect to intercept and coefficients"
      ],
      "metadata": {
        "id": "zmDqAq074756"
      }
    },
    {
      "cell_type": "markdown",
      "source": [
        "**Loss function** - The loss function for multiple linear regression using gradient descent is the Mean Squared Error (MSE)"
      ],
      "metadata": {
        "id": "x-v5TAwO8BEL"
      }
    },
    {
      "cell_type": "code",
      "source": [
        "# define the loss function\n",
        "def mse_loss(X, y, intercept, coefficients):\n",
        "    # Number of training examples\n",
        "    m = X.shape[0]\n",
        "    # Calculate the predicted values\n",
        "    y_pred = np.dot(X, coefficients) + intercept\n",
        "    # Calculate the MSE loss\n",
        "    loss = (1 / (2 * m)) * np.sum(np.square(y_pred - y))\n",
        "    return loss"
      ],
      "metadata": {
        "id": "Ld6yFx3p77iq"
      },
      "execution_count": null,
      "outputs": []
    },
    {
      "cell_type": "markdown",
      "source": [
        "**Initial parameter values**: We will generate initial values for the intercept and coefficients from a standard normal distribution using the numpy.random.randn function."
      ],
      "metadata": {
        "id": "TqgARem-9CN5"
      }
    },
    {
      "cell_type": "code",
      "source": [
        "# Generate initial parameter values from standard normal distribution\n",
        "intercept = np.random.randn()\n",
        "coefficients = np.random.randn(X_train.shape[1])"
      ],
      "metadata": {
        "id": "V9C6Tlv3895k"
      },
      "execution_count": null,
      "outputs": []
    },
    {
      "cell_type": "markdown",
      "source": [
        "**Hyperparameters:** The hyperparameters for gradient descent optimization are the learning rate and the number of iterations."
      ],
      "metadata": {
        "id": "oUuIrah4AHS2"
      }
    },
    {
      "cell_type": "code",
      "source": [
        "learning_rate = 0.001\n",
        "num_iterations = 100"
      ],
      "metadata": {
        "id": "uA_adB8DAKjd"
      },
      "execution_count": null,
      "outputs": []
    },
    {
      "cell_type": "markdown",
      "source": [
        "**Partial derivatives:** The partial derivatives of the loss function with respect to the intercept and coefficients are:"
      ],
      "metadata": {
        "id": "-LQWX5z1AN4A"
      }
    },
    {
      "cell_type": "markdown",
      "source": [
        "Calculate the partial derivatives of the cost function\n",
        "\n",
        "dJ/d(intercept) = (1 / m) * np.sum(y_pred - y_train)\n",
        "\n",
        "dJ/d(coefficient_j) = (1 / m) * np.dot(X_train.T, y_pred - y_train)\n",
        "\n",
        "where m is the number of training examples"
      ],
      "metadata": {
        "id": "xQGss18W6GQ6"
      }
    },
    {
      "cell_type": "markdown",
      "source": [
        "## b. (6 pts) Write a function that takes input of parameters and hyperparameters and provides output: best set of optimal parameters (intercept and coefficients), and the loss (cost)."
      ],
      "metadata": {
        "id": "hSCxnK_BCoGI"
      }
    },
    {
      "cell_type": "code",
      "source": [
        "#function to calculate the loss using gradient descent\n",
        "def gradient_descent(X_train, y_train, learning_rate, num_iterations):\n",
        "\n",
        "    # Normalize X\n",
        "    X_train = (X_train - np.mean(X_train, axis=0)) / np.std(X_train, axis=0)\n",
        "\n",
        "    X_train = np.c_[np.ones(X_train.shape[0]), X_train]\n",
        "\n",
        "    # Number of training examples\n",
        "    m = X_train.shape[0]\n",
        "\n",
        "    # Initialize the intercept and coefficients using random values from a standard normal distribution\n",
        "    intercept = np.random.randn()\n",
        "    coefficients = np.random.randn(X_train.shape[1])\n",
        "\n",
        "    # Initialize the cost history list\n",
        "    cost_history = []\n",
        "\n",
        "\n",
        "    # Loop over the number of iterations\n",
        "    for i in range(num_iterations):\n",
        "\n",
        "        # Calculate the predicted values\n",
        "        y_pred = np.dot(X_train, coefficients) + intercept\n",
        "\n",
        "        # Calculate the partial derivatives of the cost function\n",
        "        d_intercept = (1 / m) * np.sum(y_pred - y_train)\n",
        "        d_coefficients = (1 / m) * np.dot(X_train.T, y_pred - y_train)\n",
        "\n",
        "        # Update the intercept and coefficients\n",
        "        intercept = intercept - learning_rate * d_intercept\n",
        "        coefficients = coefficients - learning_rate * d_coefficients\n",
        "\n",
        "        # Calculate the cost and append it to the cost history list\n",
        "        cost = mse_loss(X_train, y_train, intercept, coefficients)\n",
        "        cost_history.append(cost)\n",
        "\n",
        "    # Return the best intercept, coefficients, and cost\n",
        "    best_intercept = intercept\n",
        "    best_coefficients = coefficients\n",
        "    cost = cost_history\n",
        "\n",
        "    return best_intercept, best_coefficients, cost\n"
      ],
      "metadata": {
        "id": "2iy4ekxgCzXG"
      },
      "execution_count": null,
      "outputs": []
    },
    {
      "cell_type": "markdown",
      "source": [
        "## c. (1 pt) Plot learning curve where x-axis will be number of iteration and y-axis will be loss for each iteration and explain the curve"
      ],
      "metadata": {
        "id": "ERjsCoukDdBs"
      }
    },
    {
      "cell_type": "code",
      "source": [
        "# Perform gradient descent optimization\n",
        "best_intercept, best_coefficients, cost_history = gradient_descent(X_train, y_train, learning_rate, num_iterations)\n",
        "\n",
        "# # Plot the learning curve\n",
        "plt.plot(range(1, num_iterations+1), cost_history)\n",
        "plt.xlabel('Number of Iterations')\n",
        "plt.ylabel('Loss')\n",
        "plt.title('Learning Curve')\n",
        "plt.show()\n"
      ],
      "metadata": {
        "colab": {
          "base_uri": "https://localhost:8080/",
          "height": 472
        },
        "id": "_6Tj8LtoDcrV",
        "outputId": "9075cb0b-0d76-471a-f049-150c711f741f"
      },
      "execution_count": null,
      "outputs": [
        {
          "output_type": "display_data",
          "data": {
            "text/plain": [
              "<Figure size 640x480 with 1 Axes>"
            ],
            "image/png": "[encoded data removed]"
          },
          "metadata": {}
        }
      ]
    },
    {
      "cell_type": "markdown",
      "source": [
        "The learning curve shows how the cost (loss) function changes over the course of the training process.As seen in the above case, at the beginning of the learning process, the cost is high, indicating that the initial parameter values randomly generated from the standard normal distribution are far from optimal values. As the algorithm progresses through each iteration, the parameters get updated and the cost decreases. As the algorithm gets closer to the optimal values of the parameters, the decrease in the cost per iteration gets smaller, resulting in a more gradual decrease towards the end of the learning process.\n",
        "\n",
        "However the loss is not close to minimum and there is still scope for more learning. We can fine tune the hyperparameters to reach the stable and minimum loss state."
      ],
      "metadata": {
        "id": "0XOqCvpTsJ-F"
      }
    },
    {
      "cell_type": "markdown",
      "source": [
        "## d. (1 pts) Form the regression equation using the optimal parameters and find (𝑦̂) (predict for each datapoints of x_test) – show in dataframe – making two columns: y_actual & 𝑦̂_predict"
      ],
      "metadata": {
        "id": "JfBlJnVl-eoV"
      }
    },
    {
      "cell_type": "code",
      "source": [
        "# normalize predictors\n",
        "X_test_norm = (X_test - np.mean(X_test, axis=0)) / np.std(X_test, axis=0)\n",
        "\n",
        "##adding ones to the intercept column\n",
        "X_test_with_ones = np.c_[np.ones(X_test_norm.shape[0]), X_test_norm]\n",
        "# Form the regression equation using the optimal parameters\n",
        "y_pred = best_intercept + np.dot(X_test_with_ones, best_coefficients)\n",
        "\n",
        "# Create a dataframe with y_actual and y_pred columns\n",
        "diff_df = pd.DataFrame({'y_actual': y_test, 'y_pred': y_pred})"
      ],
      "metadata": {
        "id": "gvFKiBkK-eR3"
      },
      "execution_count": null,
      "outputs": []
    },
    {
      "cell_type": "code",
      "source": [
        "diff_df"
      ],
      "metadata": {
        "colab": {
          "base_uri": "https://localhost:8080/",
          "height": 362
        },
        "id": "5GvgkpwzAara",
        "outputId": "6f5199ef-b06c-4d6b-a4dd-6e730782b098"
      },
      "execution_count": null,
      "outputs": [
        {
          "output_type": "execute_result",
          "data": {
            "text/plain": [
              "     y_actual        y_pred\n",
              "34   96712.80  17676.162063\n",
              "35   96479.51  16284.543891\n",
              "9   149759.96  25730.493619\n",
              "2   191050.39  30991.102575\n",
              "21  111313.02  23818.354800\n",
              "12  141585.52  22014.779397\n",
              "38   81229.06  12864.800191\n",
              "10  146121.95  21660.945267\n",
              "42   71498.49  12089.126278\n",
              "19  122776.86  16101.337139"
            ],
            "text/html": [
              "\n",
              "  <div id=\"df-666289d9-b22d-4808-be89-0c91a87139a8\">\n",
              "    <div class=\"colab-df-container\">\n",
              "      <div>\n",
              "<style scoped>\n",
              "    .dataframe tbody tr th:only-of-type {\n",
              "        vertical-align: middle;\n",
              "    }\n",
              "\n",
              "    .dataframe tbody tr th {\n",
              "        vertical-align: top;\n",
              "    }\n",
              "\n",
              "    .dataframe thead th {\n",
              "        text-align: right;\n",
              "    }\n",
              "</style>\n",
              "<table border=\"1\" class=\"dataframe\">\n",
              "  <thead>\n",
              "    <tr style=\"text-align: right;\">\n",
              "      <th></th>\n",
              "      <th>y_actual</th>\n",
              "      <th>y_pred</th>\n",
              "    </tr>\n",
              "  </thead>\n",
              "  <tbody>\n",
              "    <tr>\n",
              "      <th>34</th>\n",
              "      <td>96712.80</td>\n",
              "      <td>17676.162063</td>\n",
              "    </tr>\n",
              "    <tr>\n",
              "      <th>35</th>\n",
              "      <td>96479.51</td>\n",
              "      <td>16284.543891</td>\n",
              "    </tr>\n",
              "    <tr>\n",
              "      <th>9</th>\n",
              "      <td>149759.96</td>\n",
              "      <td>25730.493619</td>\n",
              "    </tr>\n",
              "    <tr>\n",
              "      <th>2</th>\n",
              "      <td>191050.39</td>\n",
              "      <td>30991.102575</td>\n",
              "    </tr>\n",
              "    <tr>\n",
              "      <th>21</th>\n",
              "      <td>111313.02</td>\n",
              "      <td>23818.354800</td>\n",
              "    </tr>\n",
              "    <tr>\n",
              "      <th>12</th>\n",
              "      <td>141585.52</td>\n",
              "      <td>22014.779397</td>\n",
              "    </tr>\n",
              "    <tr>\n",
              "      <th>38</th>\n",
              "      <td>81229.06</td>\n",
              "      <td>12864.800191</td>\n",
              "    </tr>\n",
              "    <tr>\n",
              "      <th>10</th>\n",
              "      <td>146121.95</td>\n",
              "      <td>21660.945267</td>\n",
              "    </tr>\n",
              "    <tr>\n",
              "      <th>42</th>\n",
              "      <td>71498.49</td>\n",
              "      <td>12089.126278</td>\n",
              "    </tr>\n",
              "    <tr>\n",
              "      <th>19</th>\n",
              "      <td>122776.86</td>\n",
              "      <td>16101.337139</td>\n",
              "    </tr>\n",
              "  </tbody>\n",
              "</table>\n",
              "</div>\n",
              "      <button class=\"colab-df-convert\" onclick=\"convertToInteractive('df-666289d9-b22d-4808-be89-0c91a87139a8')\"\n",
              "              title=\"Convert this dataframe to an interactive table.\"\n",
              "              style=\"display:none;\">\n",
              "        \n",
              "  <svg xmlns=\"http://www.w3.org/2000/svg\" height=\"24px\"viewBox=\"0 0 24 24\"\n",
              "       width=\"24px\">\n",
              "    <path d=\"M0 0h24v24H0V0z\" fill=\"none\"/>\n",
              "    <path d=\"M18.56 5.44l.94 2.06.94-2.06 2.06-.94-2.06-.94-.94-2.06-.94 2.06-2.06.94zm-11 1L8.5 8.5l.94-2.06 2.06-.94-2.06-.94L8.5 2.5l-.94 2.06-2.06.94zm10 10l.94 2.06.94-2.06 2.06-.94-2.06-.94-.94-2.06-.94 2.06-2.06.94z\"/><path d=\"M17.41 7.96l-1.37-1.37c-.4-.4-.92-.59-1.43-.59-.52 0-1.04.2-1.43.59L10.3 9.45l-7.72 7.72c-.78.78-.78 2.05 0 2.83L4 21.41c.39.39.9.59 1.41.59.51 0 1.02-.2 1.41-.59l7.78-7.78 2.81-2.81c.8-.78.8-2.07 0-2.86zM5.41 20L4 18.59l7.72-7.72 1.47 1.35L5.41 20z\"/>\n",
              "  </svg>\n",
              "      </button>\n",
              "      \n",
              "  <style>\n",
              "    .colab-df-container {\n",
              "      display:flex;\n",
              "      flex-wrap:wrap;\n",
              "      gap: 12px;\n",
              "    }\n",
              "\n",
              "    .colab-df-convert {\n",
              "      background-color: #E8F0FE;\n",
              "      border: none;\n",
              "      border-radius: 50%;\n",
              "      cursor: pointer;\n",
              "      display: none;\n",
              "      fill: #1967D2;\n",
              "      height: 32px;\n",
              "      padding: 0 0 0 0;\n",
              "      width: 32px;\n",
              "    }\n",
              "\n",
              "    .colab-df-convert:hover {\n",
              "      background-color: #E2EBFA;\n",
              "      box-shadow: 0px 1px 2px rgba(60, 64, 67, 0.3), 0px 1px 3px 1px rgba(60, 64, 67, 0.15);\n",
              "      fill: #174EA6;\n",
              "    }\n",
              "\n",
              "    [theme=dark] .colab-df-convert {\n",
              "      background-color: #3B4455;\n",
              "      fill: #D2E3FC;\n",
              "    }\n",
              "\n",
              "    [theme=dark] .colab-df-convert:hover {\n",
              "      background-color: #434B5C;\n",
              "      box-shadow: 0px 1px 3px 1px rgba(0, 0, 0, 0.15);\n",
              "      filter: drop-shadow(0px 1px 2px rgba(0, 0, 0, 0.3));\n",
              "      fill: #FFFFFF;\n",
              "    }\n",
              "  </style>\n",
              "\n",
              "      <script>\n",
              "        const buttonEl =\n",
              "          document.querySelector('#df-666289d9-b22d-4808-be89-0c91a87139a8 button.colab-df-convert');\n",
              "        buttonEl.style.display =\n",
              "          google.colab.kernel.accessAllowed ? 'block' : 'none';\n",
              "\n",
              "        async function convertToInteractive(key) {\n",
              "          const element = document.querySelector('#df-666289d9-b22d-4808-be89-0c91a87139a8');\n",
              "          const dataTable =\n",
              "            await google.colab.kernel.invokeFunction('convertToInteractive',\n",
              "                                                     [key], {});\n",
              "          if (!dataTable) return;\n",
              "\n",
              "          const docLinkHtml = 'Like what you see? Visit the ' +\n",
              "            '<a target=\"_blank\" href=https://colab.research.google.com/notebooks/data_table.ipynb>data table notebook</a>'\n",
              "            + ' to learn more about interactive tables.';\n",
              "          element.innerHTML = '';\n",
              "          dataTable['output_type'] = 'display_data';\n",
              "          await google.colab.output.renderOutput(dataTable, element);\n",
              "          const docLink = document.createElement('div');\n",
              "          docLink.innerHTML = docLinkHtml;\n",
              "          element.appendChild(docLink);\n",
              "        }\n",
              "      </script>\n",
              "    </div>\n",
              "  </div>\n",
              "  "
            ]
          },
          "metadata": {},
          "execution_count": 88
        }
      ]
    },
    {
      "cell_type": "markdown",
      "source": [
        "## e. (2 pts) Finally, for the test dataset: a. Calculate coefficient of determination (𝑅2) and interpret the result b. Find MSE (mean of sum of squares of error (residual)"
      ],
      "metadata": {
        "id": "ASMmSex3GSSB"
      }
    },
    {
      "cell_type": "code",
      "source": [
        "# To calculate 𝑅2, we can use the following formula:\n",
        "# 𝑅2 = 1 - (Sum of square of residuals / sum of squares)\n",
        "# To calculate MSE, we can use the following formula:\n",
        "# MSE = 1/n * Σ(y_actual - y_pred)^2\n",
        "# where n is the number of observations."
      ],
      "metadata": {
        "id": "JdX_1Ls0GY7p"
      },
      "execution_count": null,
      "outputs": []
    },
    {
      "cell_type": "code",
      "source": [
        "# Calculate R2\n",
        "sum_sq_residuals = np.sum((y_test - y_pred)**2)\n",
        "sum_sq = np.sum((y_test - np.mean(y_test))**2)\n",
        "R2 = 1 - (sum_sq_residuals/sum_sq)\n",
        "print(\"R2: \", R2)\n",
        "\n",
        "# Calculate MSE\n",
        "MSE = np.mean((y_test - y_pred)**2)\n",
        "print(\"MSE: \", MSE)\n"
      ],
      "metadata": {
        "colab": {
          "base_uri": "https://localhost:8080/"
        },
        "id": "XagPhE5HQTtH",
        "outputId": "be7b98b2-f86b-4ad6-a24e-c378d107c2b7"
      },
      "execution_count": null,
      "outputs": [
        {
          "output_type": "stream",
          "name": "stdout",
          "text": [
            "R2:  -8.142394895602306\n",
            "MSE:  11070613858.797028\n"
          ]
        }
      ]
    },
    {
      "cell_type": "markdown",
      "source": [
        "**Interpretation** - The negative R2 value indicates that the model is not a good fit for the data and performs worse than a horizontal line. The MSE value indicates that on average, the predicted values are off by about 11070613858 dollars from the actual values. This suggests that the model is not accurate and needs to be improved."
      ],
      "metadata": {
        "id": "p0X2BLIHw2Ft"
      }
    },
    {
      "cell_type": "markdown",
      "source": [
        "##Comparing with linear regression library to verify results"
      ],
      "metadata": {
        "id": "agj5D581qxzV"
      }
    },
    {
      "cell_type": "code",
      "source": [
        "from sklearn.linear_model import LinearRegression\n",
        "\n",
        "# Create the linear regression model\n",
        "model = LinearRegression()\n",
        "\n",
        "# Train the model\n",
        "model.fit(X_train, y_train)"
      ],
      "metadata": {
        "colab": {
          "base_uri": "https://localhost:8080/",
          "height": 76
        },
        "id": "T-G0XnHzjW_e",
        "outputId": "fc0f5f2e-05d8-421e-c055-aa820aaf5ca2"
      },
      "execution_count": null,
      "outputs": [
        {
          "output_type": "execute_result",
          "data": {
            "text/plain": [
              "LinearRegression()"
            ],
            "text/html": [
              "<style>#sk-container-id-6 {color: black;background-color: white;}#sk-container-id-6 pre{padding: 0;}#sk-container-id-6 div.sk-toggleable {background-color: white;}#sk-container-id-6 label.sk-toggleable__label {cursor: pointer;display: block;width: 100%;margin-bottom: 0;padding: 0.3em;box-sizing: border-box;text-align: center;}#sk-container-id-6 label.sk-toggleable__label-arrow:before {content: \"▸\";float: left;margin-right: 0.25em;color: #696969;}#sk-container-id-6 label.sk-toggleable__label-arrow:hover:before {color: black;}#sk-container-id-6 div.sk-estimator:hover label.sk-toggleable__label-arrow:before {color: black;}#sk-container-id-6 div.sk-toggleable__content {max-height: 0;max-width: 0;overflow: hidden;text-align: left;background-color: #f0f8ff;}#sk-container-id-6 div.sk-toggleable__content pre {margin: 0.2em;color: black;border-radius: 0.25em;background-color: #f0f8ff;}#sk-container-id-6 input.sk-toggleable__control:checked~div.sk-toggleable__content {max-height: 200px;max-width: 100%;overflow: auto;}#sk-container-id-6 input.sk-toggleable__control:checked~label.sk-toggleable__label-arrow:before {content: \"▾\";}#sk-container-id-6 div.sk-estimator input.sk-toggleable__control:checked~label.sk-toggleable__label {background-color: #d4ebff;}#sk-container-id-6 div.sk-label input.sk-toggleable__control:checked~label.sk-toggleable__label {background-color: #d4ebff;}#sk-container-id-6 input.sk-hidden--visually {border: 0;clip: rect(1px 1px 1px 1px);clip: rect(1px, 1px, 1px, 1px);height: 1px;margin: -1px;overflow: hidden;padding: 0;position: absolute;width: 1px;}#sk-container-id-6 div.sk-estimator {font-family: monospace;background-color: #f0f8ff;border: 1px dotted black;border-radius: 0.25em;box-sizing: border-box;margin-bottom: 0.5em;}#sk-container-id-6 div.sk-estimator:hover {background-color: #d4ebff;}#sk-container-id-6 div.sk-parallel-item::after {content: \"\";width: 100%;border-bottom: 1px solid gray;flex-grow: 1;}#sk-container-id-6 div.sk-label:hover label.sk-toggleable__label {background-color: #d4ebff;}#sk-container-id-6 div.sk-serial::before {content: \"\";position: absolute;border-left: 1px solid gray;box-sizing: border-box;top: 0;bottom: 0;left: 50%;z-index: 0;}#sk-container-id-6 div.sk-serial {display: flex;flex-direction: column;align-items: center;background-color: white;padding-right: 0.2em;padding-left: 0.2em;position: relative;}#sk-container-id-6 div.sk-item {position: relative;z-index: 1;}#sk-container-id-6 div.sk-parallel {display: flex;align-items: stretch;justify-content: center;background-color: white;position: relative;}#sk-container-id-6 div.sk-item::before, #sk-container-id-6 div.sk-parallel-item::before {content: \"\";position: absolute;border-left: 1px solid gray;box-sizing: border-box;top: 0;bottom: 0;left: 50%;z-index: -1;}#sk-container-id-6 div.sk-parallel-item {display: flex;flex-direction: column;z-index: 1;position: relative;background-color: white;}#sk-container-id-6 div.sk-parallel-item:first-child::after {align-self: flex-end;width: 50%;}#sk-container-id-6 div.sk-parallel-item:last-child::after {align-self: flex-start;width: 50%;}#sk-container-id-6 div.sk-parallel-item:only-child::after {width: 0;}#sk-container-id-6 div.sk-dashed-wrapped {border: 1px dashed gray;margin: 0 0.4em 0.5em 0.4em;box-sizing: border-box;padding-bottom: 0.4em;background-color: white;}#sk-container-id-6 div.sk-label label {font-family: monospace;font-weight: bold;display: inline-block;line-height: 1.2em;}#sk-container-id-6 div.sk-label-container {text-align: center;}#sk-container-id-6 div.sk-container {/* jupyter's `normalize.less` sets `[hidden] { display: none; }` but bootstrap.min.css set `[hidden] { display: none !important; }` so we also need the `!important` here to be able to override the default hidden behavior on the sphinx rendered scikit-learn.org. See: https://github.com/scikit-learn/scikit-learn/issues/21755 */display: inline-block !important;position: relative;}#sk-container-id-6 div.sk-text-repr-fallback {display: none;}</style><div id=\"sk-container-id-6\" class=\"sk-top-container\"><div class=\"sk-text-repr-fallback\"><pre>LinearRegression()</pre><b>In a Jupyter environment, please rerun this cell to show the HTML representation or trust the notebook. <br />On GitHub, the HTML representation is unable to render, please try loading this page with nbviewer.org.</b></div><div class=\"sk-container\" hidden><div class=\"sk-item\"><div class=\"sk-estimator sk-toggleable\"><input class=\"sk-toggleable__control sk-hidden--visually\" id=\"sk-estimator-id-6\" type=\"checkbox\" checked><label for=\"sk-estimator-id-6\" class=\"sk-toggleable__label sk-toggleable__label-arrow\">LinearRegression</label><div class=\"sk-toggleable__content\"><pre>LinearRegression()</pre></div></div></div></div></div>"
            ]
          },
          "metadata": {},
          "execution_count": 101
        }
      ]
    },
    {
      "cell_type": "code",
      "source": [
        "# Calculate MSE\n",
        "mse = np.mean((y_test - model.predict(X_test))**2)\n",
        "\n",
        "# Print MSE\n",
        "print(mse)"
      ],
      "metadata": {
        "colab": {
          "base_uri": "https://localhost:8080/"
        },
        "id": "Cje2zbihjgEa",
        "outputId": "e7d1be5b-bff8-448a-d549-5f90b92bebec"
      },
      "execution_count": null,
      "outputs": [
        {
          "output_type": "stream",
          "name": "stdout",
          "text": [
            "102862789.53022633\n"
          ]
        }
      ]
    },
    {
      "cell_type": "code",
      "source": [
        "# Calculate R2\n",
        "r2 = 1 - np.mean((y_test - model.predict(X_test))**2) / np.mean((y_test - y_test.mean())**2)\n",
        "\n",
        "# Print R2\n",
        "print(r2)"
      ],
      "metadata": {
        "colab": {
          "base_uri": "https://localhost:8080/"
        },
        "id": "fyNMjwEsks3B",
        "outputId": "7d4d1b0c-2e69-406e-dbca-987c45f903a4"
      },
      "execution_count": null,
      "outputs": [
        {
          "output_type": "stream",
          "name": "stdout",
          "text": [
            "0.9150532884677143\n"
          ]
        }
      ]
    },
    {
      "cell_type": "markdown",
      "source": [
        "## Hence tuning the hyperparameters to match the library results"
      ],
      "metadata": {
        "id": "oIEe98TRrrnm"
      }
    },
    {
      "cell_type": "code",
      "source": [
        "## Hence tuning the hyperparameters\n",
        "learning_rate = 0.1\n",
        "num_iterations = 500"
      ],
      "metadata": {
        "id": "sLa04Fw8rB9f"
      },
      "execution_count": null,
      "outputs": []
    },
    {
      "cell_type": "code",
      "source": [
        "print(X_train.head())"
      ],
      "metadata": {
        "colab": {
          "base_uri": "https://localhost:8080/"
        },
        "id": "RD1O5E9WwFWW",
        "outputId": "890fe3aa-4417-4621-8cab-cc85dca66df6"
      },
      "execution_count": null,
      "outputs": [
        {
          "output_type": "stream",
          "name": "stdout",
          "text": [
            "    R&D Spend  Administration  Marketing Spend  State_Florida  State_New York\n",
            "41   27892.92        84710.77        164470.71              1               0\n",
            "1   162597.70       151377.59        443898.53              0               0\n",
            "4   142107.34        91391.77        366168.42              1               0\n",
            "14  119943.24       156547.42        256512.92              1               0\n",
            "36   28663.76       127056.21        201126.82              1               0\n"
          ]
        }
      ]
    },
    {
      "cell_type": "code",
      "source": [
        "# # normalize predictors\n",
        "# X_train = (X_train - np.mean(X_train, axis=0)) / np.std(X_train, axis=0)\n",
        "# Perform gradient descent optimization\n",
        "best_intercept, best_coefficients, cost_history = gradient_descent(X_train, y_train, learning_rate, num_iterations)\n",
        "\n",
        "# # Plot the learning curve\n",
        "plt.plot(range(1, num_iterations+1), cost_history)\n",
        "plt.xlabel('Number of Iterations')\n",
        "plt.ylabel('Loss')\n",
        "plt.title('Learning Curve')\n",
        "plt.show()\n"
      ],
      "metadata": {
        "colab": {
          "base_uri": "https://localhost:8080/",
          "height": 472
        },
        "id": "VKvLXC6vrSG7",
        "outputId": "15745459-0963-448d-ba70-17418b630e5d"
      },
      "execution_count": null,
      "outputs": [
        {
          "output_type": "display_data",
          "data": {
            "text/plain": [
              "<Figure size 640x480 with 1 Axes>"
            ],
            "image/png": "[encoded data removed]"
          },
          "metadata": {}
        }
      ]
    },
    {
      "cell_type": "code",
      "source": [
        "X_test.head()"
      ],
      "metadata": {
        "colab": {
          "base_uri": "https://localhost:8080/",
          "height": 206
        },
        "id": "faiE2KG1wuTA",
        "outputId": "06cbd346-1e75-4769-ef8f-16ed615f64e9"
      },
      "execution_count": null,
      "outputs": [
        {
          "output_type": "execute_result",
          "data": {
            "text/plain": [
              "    R&D Spend  Administration  Marketing Spend  State_Florida  State_New York\n",
              "34  -0.751551        1.401062        -0.130178      -0.654654       -0.816497\n",
              "35  -0.761560       -1.039562        -0.181758      -0.654654        1.224745\n",
              "9    1.116536       -0.245633         0.789891      -0.654654       -0.816497\n",
              "2    1.847814       -0.498732         1.795622       1.527525       -0.816497\n",
              "21   0.024828        1.269350         0.738659      -0.654654        1.224745"
            ],
            "text/html": [
              "\n",
              "  <div id=\"df-cb3042ee-9a12-46f6-9591-95328792491c\">\n",
              "    <div class=\"colab-df-container\">\n",
              "      <div>\n",
              "<style scoped>\n",
              "    .dataframe tbody tr th:only-of-type {\n",
              "        vertical-align: middle;\n",
              "    }\n",
              "\n",
              "    .dataframe tbody tr th {\n",
              "        vertical-align: top;\n",
              "    }\n",
              "\n",
              "    .dataframe thead th {\n",
              "        text-align: right;\n",
              "    }\n",
              "</style>\n",
              "<table border=\"1\" class=\"dataframe\">\n",
              "  <thead>\n",
              "    <tr style=\"text-align: right;\">\n",
              "      <th></th>\n",
              "      <th>R&amp;D Spend</th>\n",
              "      <th>Administration</th>\n",
              "      <th>Marketing Spend</th>\n",
              "      <th>State_Florida</th>\n",
              "      <th>State_New York</th>\n",
              "    </tr>\n",
              "  </thead>\n",
              "  <tbody>\n",
              "    <tr>\n",
              "      <th>34</th>\n",
              "      <td>-0.751551</td>\n",
              "      <td>1.401062</td>\n",
              "      <td>-0.130178</td>\n",
              "      <td>-0.654654</td>\n",
              "      <td>-0.816497</td>\n",
              "    </tr>\n",
              "    <tr>\n",
              "      <th>35</th>\n",
              "      <td>-0.761560</td>\n",
              "      <td>-1.039562</td>\n",
              "      <td>-0.181758</td>\n",
              "      <td>-0.654654</td>\n",
              "      <td>1.224745</td>\n",
              "    </tr>\n",
              "    <tr>\n",
              "      <th>9</th>\n",
              "      <td>1.116536</td>\n",
              "      <td>-0.245633</td>\n",
              "      <td>0.789891</td>\n",
              "      <td>-0.654654</td>\n",
              "      <td>-0.816497</td>\n",
              "    </tr>\n",
              "    <tr>\n",
              "      <th>2</th>\n",
              "      <td>1.847814</td>\n",
              "      <td>-0.498732</td>\n",
              "      <td>1.795622</td>\n",
              "      <td>1.527525</td>\n",
              "      <td>-0.816497</td>\n",
              "    </tr>\n",
              "    <tr>\n",
              "      <th>21</th>\n",
              "      <td>0.024828</td>\n",
              "      <td>1.269350</td>\n",
              "      <td>0.738659</td>\n",
              "      <td>-0.654654</td>\n",
              "      <td>1.224745</td>\n",
              "    </tr>\n",
              "  </tbody>\n",
              "</table>\n",
              "</div>\n",
              "      <button class=\"colab-df-convert\" onclick=\"convertToInteractive('df-cb3042ee-9a12-46f6-9591-95328792491c')\"\n",
              "              title=\"Convert this dataframe to an interactive table.\"\n",
              "              style=\"display:none;\">\n",
              "        \n",
              "  <svg xmlns=\"http://www.w3.org/2000/svg\" height=\"24px\"viewBox=\"0 0 24 24\"\n",
              "       width=\"24px\">\n",
              "    <path d=\"M0 0h24v24H0V0z\" fill=\"none\"/>\n",
              "    <path d=\"M18.56 5.44l.94 2.06.94-2.06 2.06-.94-2.06-.94-.94-2.06-.94 2.06-2.06.94zm-11 1L8.5 8.5l.94-2.06 2.06-.94-2.06-.94L8.5 2.5l-.94 2.06-2.06.94zm10 10l.94 2.06.94-2.06 2.06-.94-2.06-.94-.94-2.06-.94 2.06-2.06.94z\"/><path d=\"M17.41 7.96l-1.37-1.37c-.4-.4-.92-.59-1.43-.59-.52 0-1.04.2-1.43.59L10.3 9.45l-7.72 7.72c-.78.78-.78 2.05 0 2.83L4 21.41c.39.39.9.59 1.41.59.51 0 1.02-.2 1.41-.59l7.78-7.78 2.81-2.81c.8-.78.8-2.07 0-2.86zM5.41 20L4 18.59l7.72-7.72 1.47 1.35L5.41 20z\"/>\n",
              "  </svg>\n",
              "      </button>\n",
              "      \n",
              "  <style>\n",
              "    .colab-df-container {\n",
              "      display:flex;\n",
              "      flex-wrap:wrap;\n",
              "      gap: 12px;\n",
              "    }\n",
              "\n",
              "    .colab-df-convert {\n",
              "      background-color: #E8F0FE;\n",
              "      border: none;\n",
              "      border-radius: 50%;\n",
              "      cursor: pointer;\n",
              "      display: none;\n",
              "      fill: #1967D2;\n",
              "      height: 32px;\n",
              "      padding: 0 0 0 0;\n",
              "      width: 32px;\n",
              "    }\n",
              "\n",
              "    .colab-df-convert:hover {\n",
              "      background-color: #E2EBFA;\n",
              "      box-shadow: 0px 1px 2px rgba(60, 64, 67, 0.3), 0px 1px 3px 1px rgba(60, 64, 67, 0.15);\n",
              "      fill: #174EA6;\n",
              "    }\n",
              "\n",
              "    [theme=dark] .colab-df-convert {\n",
              "      background-color: #3B4455;\n",
              "      fill: #D2E3FC;\n",
              "    }\n",
              "\n",
              "    [theme=dark] .colab-df-convert:hover {\n",
              "      background-color: #434B5C;\n",
              "      box-shadow: 0px 1px 3px 1px rgba(0, 0, 0, 0.15);\n",
              "      filter: drop-shadow(0px 1px 2px rgba(0, 0, 0, 0.3));\n",
              "      fill: #FFFFFF;\n",
              "    }\n",
              "  </style>\n",
              "\n",
              "      <script>\n",
              "        const buttonEl =\n",
              "          document.querySelector('#df-cb3042ee-9a12-46f6-9591-95328792491c button.colab-df-convert');\n",
              "        buttonEl.style.display =\n",
              "          google.colab.kernel.accessAllowed ? 'block' : 'none';\n",
              "\n",
              "        async function convertToInteractive(key) {\n",
              "          const element = document.querySelector('#df-cb3042ee-9a12-46f6-9591-95328792491c');\n",
              "          const dataTable =\n",
              "            await google.colab.kernel.invokeFunction('convertToInteractive',\n",
              "                                                     [key], {});\n",
              "          if (!dataTable) return;\n",
              "\n",
              "          const docLinkHtml = 'Like what you see? Visit the ' +\n",
              "            '<a target=\"_blank\" href=https://colab.research.google.com/notebooks/data_table.ipynb>data table notebook</a>'\n",
              "            + ' to learn more about interactive tables.';\n",
              "          element.innerHTML = '';\n",
              "          dataTable['output_type'] = 'display_data';\n",
              "          await google.colab.output.renderOutput(dataTable, element);\n",
              "          const docLink = document.createElement('div');\n",
              "          docLink.innerHTML = docLinkHtml;\n",
              "          element.appendChild(docLink);\n",
              "        }\n",
              "      </script>\n",
              "    </div>\n",
              "  </div>\n",
              "  "
            ]
          },
          "metadata": {},
          "execution_count": 110
        }
      ]
    },
    {
      "cell_type": "code",
      "source": [
        "best_coefficients"
      ],
      "metadata": {
        "colab": {
          "base_uri": "https://localhost:8080/"
        },
        "id": "-DrzS8o9w2a8",
        "outputId": "5498d326-4cd3-4b4c-da4f-de8b0b862948"
      },
      "execution_count": null,
      "outputs": [
        {
          "output_type": "execute_result",
          "data": {
            "text/plain": [
              "array([54902.57410294, 36395.42439349,   305.0536532 ,  4415.77399123,\n",
              "       -1140.17385517,  -622.50277369])"
            ]
          },
          "metadata": {},
          "execution_count": 111
        }
      ]
    },
    {
      "cell_type": "code",
      "source": [
        "# normalize predictors\n",
        "X_test = (X_test - np.mean(X_test, axis=0)) / np.std(X_test, axis=0)\n",
        "##adding ones to the intercept column\n",
        "X_test_with_ones = np.c_[np.ones(X_test_norm.shape[0]), X_test_norm]\n",
        "# Form the regression equation using the optimal parameters\n",
        "y_pred = best_intercept + np.dot(X_test_with_ones, best_coefficients)\n",
        "\n",
        "# Create a dataframe with y_actual and y_pred columns\n",
        "df = pd.DataFrame({'y_actual': y_test, 'y_pred': y_pred})"
      ],
      "metadata": {
        "id": "_ukY5lWfrW9U"
      },
      "execution_count": null,
      "outputs": []
    },
    {
      "cell_type": "code",
      "source": [
        "# Calculate R2\n",
        "sum_sq_residuals = np.sum((y_test - y_pred)**2)\n",
        "sum_sq = np.sum((y_test - np.mean(y_test))**2)\n",
        "R2 = 1 - (sum_sq_residuals/sum_sq)\n",
        "print(\"R2: \", R2)\n",
        "\n",
        "# Calculate MSE\n",
        "MSE = np.mean((y_test - y_pred)**2)\n",
        "print(\"MSE: \", MSE)"
      ],
      "metadata": {
        "colab": {
          "base_uri": "https://localhost:8080/"
        },
        "id": "1YjJUwCIra1x",
        "outputId": "be2f510a-7c13-435e-d50c-027a7d63637d"
      },
      "execution_count": null,
      "outputs": [
        {
          "output_type": "stream",
          "name": "stdout",
          "text": [
            "R2:  0.8375672436418068\n",
            "MSE:  196691386.03131253\n"
          ]
        }
      ]
    },
    {
      "cell_type": "markdown",
      "source": [
        "# Problem 2 (Coding) 12 pts: ): Apply Multiple Linear Regression using normal (least square solution). You must not use any direct or in-built package for MLR."
      ],
      "metadata": {
        "id": "sMxKL1Q2wVQa"
      }
    },
    {
      "cell_type": "markdown",
      "source": [
        "## a. (5 pts) Check the five assumptions (mentioned in the classroom) of MLR (use – training dataset) and proper interpretation – why the assumptions are met or not"
      ],
      "metadata": {
        "id": "rnSaUiH0yRT2"
      }
    },
    {
      "cell_type": "code",
      "source": [
        "df = df_orig.copy()\n",
        "df.isnull().sum()"
      ],
      "metadata": {
        "colab": {
          "base_uri": "https://localhost:8080/"
        },
        "id": "XHiiId4a29zh",
        "outputId": "09f8aeac-0d9a-42c4-91fc-a98d5952b921"
      },
      "execution_count": null,
      "outputs": [
        {
          "output_type": "execute_result",
          "data": {
            "text/plain": [
              "R&D Spend          0\n",
              "Administration     0\n",
              "Marketing Spend    0\n",
              "State              0\n",
              "Profit             0\n",
              "dtype: int64"
            ]
          },
          "metadata": {},
          "execution_count": 28
        }
      ]
    },
    {
      "cell_type": "code",
      "source": [
        "#1. Check the correlations between the variables\n",
        "corr_matrix = df.drop(['Profit'], axis=1).corr()\n",
        "sns.heatmap(corr_matrix, annot=True)"
      ],
      "metadata": {
        "colab": {
          "base_uri": "https://localhost:8080/",
          "height": 508
        },
        "id": "MpZl1fzV3FCx",
        "outputId": "ca4478e2-7fd3-4163-c0e2-bfd1acab04fc"
      },
      "execution_count": null,
      "outputs": [
        {
          "output_type": "stream",
          "name": "stderr",
          "text": [
            "<ipython-input-29-45affe07c642>:2: FutureWarning: The default value of numeric_only in DataFrame.corr is deprecated. In a future version, it will default to False. Select only valid columns or specify the value of numeric_only to silence this warning.\n",
            "  corr_matrix = df.drop(['Profit'], axis=1).corr()\n"
          ]
        },
        {
          "output_type": "execute_result",
          "data": {
            "text/plain": [
              "<Axes: >"
            ]
          },
          "metadata": {},
          "execution_count": 29
        },
        {
          "output_type": "display_data",
          "data": {
            "text/plain": [
              "<Figure size 640x480 with 2 Axes>"
            ],
            "image/png": "[encoded data removed]"
          },
          "metadata": {}
        }
      ]
    },
    {
      "cell_type": "markdown",
      "source": [
        "**Explanation** - From the correlation matrix, we can see that there are no strong correlations between any two input variables. Therefore, the multicollinearity assumption is met."
      ],
      "metadata": {
        "id": "026HDmUS7rhE"
      }
    },
    {
      "cell_type": "code",
      "source": [
        "# 2. Check the linearity assumption\n",
        "sns.pairplot(df, x_vars=['R&D Spend', 'Administration', 'Marketing Spend'], y_vars=['Profit'], kind='reg')"
      ],
      "metadata": {
        "colab": {
          "base_uri": "https://localhost:8080/",
          "height": 285
        },
        "id": "bFRMsvE-3VmE",
        "outputId": "798c5177-d996-4a11-b40e-17cf2a4177f6"
      },
      "execution_count": null,
      "outputs": [
        {
          "output_type": "execute_result",
          "data": {
            "text/plain": [
              "<seaborn.axisgrid.PairGrid at 0x7f3c4902edd0>"
            ]
          },
          "metadata": {},
          "execution_count": 30
        },
        {
          "output_type": "display_data",
          "data": {
            "text/plain": [
              "<Figure size 750x250 with 3 Axes>"
            ],
            "image/png": "[encoded data removed]"
          },
          "metadata": {}
        }
      ]
    },
    {
      "cell_type": "markdown",
      "source": [
        "**Explanation** - From the scatter plots, we can see that there is a linear relationship between R&D Spend, Administration, Marketing Spend, and Profit."
      ],
      "metadata": {
        "id": "GcYj7S6J6iw3"
      }
    },
    {
      "cell_type": "code",
      "source": [
        "## 3. Homoscedasticity\n",
        "residuals = y_test - y_pred\n",
        "sns.scatterplot(x=y_pred, y=residuals)"
      ],
      "metadata": {
        "colab": {
          "base_uri": "https://localhost:8080/",
          "height": 448
        },
        "id": "kTcuoHLq5s9b",
        "outputId": "616d5c6a-f26f-4a32-9a51-90a505558c71"
      },
      "execution_count": null,
      "outputs": [
        {
          "output_type": "execute_result",
          "data": {
            "text/plain": [
              "<Axes: ylabel='Profit'>"
            ]
          },
          "metadata": {},
          "execution_count": 31
        },
        {
          "output_type": "display_data",
          "data": {
            "text/plain": [
              "<Figure size 640x480 with 1 Axes>"
            ],
            "image/png": "[encoded data removed]"
          },
          "metadata": {}
        }
      ]
    },
    {
      "cell_type": "markdown",
      "source": [
        "**Explanation** - From the scatter plot, we can see that the residuals are randomly scattered around zero, and there is no visible pattern in the variance of the residuals. Therefore, the homoscedasticity assumption is met."
      ],
      "metadata": {
        "id": "WtyC_h6e5yi_"
      }
    },
    {
      "cell_type": "code",
      "source": [
        "## 4. Normality: We can create a histogram of the residuals to check for normality."
      ],
      "metadata": {
        "id": "dZheb0Gy6y1-"
      },
      "execution_count": null,
      "outputs": []
    },
    {
      "cell_type": "code",
      "source": [
        "sns.histplot(residuals, kde=True)"
      ],
      "metadata": {
        "colab": {
          "base_uri": "https://localhost:8080/",
          "height": 466
        },
        "id": "0AmtOAcP61u8",
        "outputId": "a13c6cee-e564-4fd8-8a6c-8a7f8c694be6"
      },
      "execution_count": null,
      "outputs": [
        {
          "output_type": "execute_result",
          "data": {
            "text/plain": [
              "<Axes: xlabel='Profit', ylabel='Count'>"
            ]
          },
          "metadata": {},
          "execution_count": 32
        },
        {
          "output_type": "display_data",
          "data": {
            "text/plain": [
              "<Figure size 640x480 with 1 Axes>"
            ],
            "image/png": "[encoded data removed]"
          },
          "metadata": {}
        }
      ]
    },
    {
      "cell_type": "markdown",
      "source": [
        "**Explanation** -From the histogram, we can see that the residuals are approximately normally distributed. Therefore, the normality assumption is met."
      ],
      "metadata": {
        "id": "F3AK2KNV7ALC"
      }
    },
    {
      "cell_type": "code",
      "source": [
        "## 5. Independence: We assume that the observations in the dataset are independent of each other.\n",
        "## Since we don't have any information about the data collection process, we will assume that this assumption is met."
      ],
      "metadata": {
        "id": "5LuVY5fu8E0Q"
      },
      "execution_count": null,
      "outputs": []
    },
    {
      "cell_type": "markdown",
      "source": [
        "**Conclusion** - In conclusion, all of the assumptions of MLR are met for this dataset."
      ],
      "metadata": {
        "id": "dMPdEXLI8Qub"
      }
    },
    {
      "cell_type": "markdown",
      "source": [
        "## b. (4 pts) Find optimal values of intercept and coefficients using the normal equation of the linear regression ( 𝒃𝒐𝒑𝒕 = (𝑿T 𝑿)^-1 𝑿T 𝒚 ) using the training data. To avoid inverse matrix error, you may use pseudo inverse (np.ling.pinv)"
      ],
      "metadata": {
        "id": "EZT05yXHAmra"
      }
    },
    {
      "cell_type": "code",
      "source": [
        "X = df.drop(['Profit'], axis=1)\n",
        "y = df['Profit']\n",
        "X = pd.get_dummies(X, columns=['State'])\n",
        "X_train, X_test, y_train, y_test = train_test_split(X, y, test_size=0.2, random_state=2023)\n"
      ],
      "metadata": {
        "id": "iK1js4mV8QaA"
      },
      "execution_count": null,
      "outputs": []
    },
    {
      "cell_type": "code",
      "source": [
        "##using the normal equation to calculate the coefficients and intercept\n",
        "#normalising the train data\n",
        "X_train = (X_train - np.mean(X_train, axis=0)) / np.std(X_train, axis=0)\n",
        "\n",
        "X_train = np.c_[np.ones(X_train.shape[0]), X_train]\n",
        "\n",
        "# Calculate the pseudoinverse of X\n",
        "X_pinv = np.linalg.inv(np.dot(X_train.T, X_train)).dot(X_train.T)\n",
        "\n",
        "# Calculate the coefficients using the pseudoinverse\n",
        "optimal_coefficients = X_pinv.dot(y_train)\n",
        "\n",
        "print(optimal_coefficients)\n"
      ],
      "metadata": {
        "colab": {
          "base_uri": "https://localhost:8080/"
        },
        "id": "AMwBPiDIBUSv",
        "outputId": "1110a15f-e6a7-49dd-b890-e0249121a869"
      },
      "execution_count": null,
      "outputs": [
        {
          "output_type": "stream",
          "name": "stdout",
          "text": [
            "[109802.61        36342.81556362    364.66659811   4594.66408259\n",
            " -15737.35626352 -16266.73369122 -20973.72642579]\n"
          ]
        }
      ]
    },
    {
      "cell_type": "markdown",
      "source": [
        "**Intercept** - 109802.61\n",
        "\n",
        "**Other coefficients** - 36342.81556362, 364.66659811, 4594.66408259, -15737.35626352, -16266.73369122, -20973.72642579"
      ],
      "metadata": {
        "id": "Fbe_-wp-EkJm"
      }
    },
    {
      "cell_type": "markdown",
      "source": [
        "## c. (1 pts) Form the regression equation using the optimal parameters and find (𝑦̂) (predict for each datapoints of x_test) – show in dataframe – making two columns: y_actual & 𝑦̂_predict"
      ],
      "metadata": {
        "id": "EV0O7jrmIVqE"
      }
    },
    {
      "cell_type": "code",
      "source": [
        "## Normalizing the test data\n",
        "X_test = (X_test - np.mean(X_test, axis=0)) / np.std(X_test, axis=0)\n",
        "\n",
        "# Add a column of ones to the design matrix for the test data\n",
        "X_test = np.c_[np.ones(X_test.shape[0]), X_test]\n",
        "\n",
        "# Calculate the predicted values for the test data\n",
        "y_predict = X_test.dot(optimal_coefficients)\n",
        "\n",
        "# Create a dataframe with the actual and predicted values\n",
        "df_results = pd.DataFrame({'y_actual': y_test, 'y_predict': y_predict})\n",
        "\n",
        "# Print the dataframe\n",
        "df_results"
      ],
      "metadata": {
        "colab": {
          "base_uri": "https://localhost:8080/",
          "height": 362
        },
        "id": "yw1lecAYIi9r",
        "outputId": "9d0effcc-572c-4e48-cc5b-f7d822fe03a3"
      },
      "execution_count": null,
      "outputs": [
        {
          "output_type": "execute_result",
          "data": {
            "text/plain": [
              "     y_actual      y_predict\n",
              "34   96712.80   86136.768377\n",
              "35   96479.51   76175.310628\n",
              "9   149759.96  157655.205527\n",
              "2   191050.39  187605.446143\n",
              "21  111313.02  109825.846910\n",
              "12  141585.52  128237.610148\n",
              "38   81229.06   52270.993021\n",
              "10  146121.95  134210.120509\n",
              "42   71498.49   62450.999878\n",
              "19  122776.86  103457.798860"
            ],
            "text/html": [
              "\n",
              "  <div id=\"df-baa55845-62dd-4945-a78c-e87b4c184d32\">\n",
              "    <div class=\"colab-df-container\">\n",
              "      <div>\n",
              "<style scoped>\n",
              "    .dataframe tbody tr th:only-of-type {\n",
              "        vertical-align: middle;\n",
              "    }\n",
              "\n",
              "    .dataframe tbody tr th {\n",
              "        vertical-align: top;\n",
              "    }\n",
              "\n",
              "    .dataframe thead th {\n",
              "        text-align: right;\n",
              "    }\n",
              "</style>\n",
              "<table border=\"1\" class=\"dataframe\">\n",
              "  <thead>\n",
              "    <tr style=\"text-align: right;\">\n",
              "      <th></th>\n",
              "      <th>y_actual</th>\n",
              "      <th>y_predict</th>\n",
              "    </tr>\n",
              "  </thead>\n",
              "  <tbody>\n",
              "    <tr>\n",
              "      <th>34</th>\n",
              "      <td>96712.80</td>\n",
              "      <td>86136.768377</td>\n",
              "    </tr>\n",
              "    <tr>\n",
              "      <th>35</th>\n",
              "      <td>96479.51</td>\n",
              "      <td>76175.310628</td>\n",
              "    </tr>\n",
              "    <tr>\n",
              "      <th>9</th>\n",
              "      <td>149759.96</td>\n",
              "      <td>157655.205527</td>\n",
              "    </tr>\n",
              "    <tr>\n",
              "      <th>2</th>\n",
              "      <td>191050.39</td>\n",
              "      <td>187605.446143</td>\n",
              "    </tr>\n",
              "    <tr>\n",
              "      <th>21</th>\n",
              "      <td>111313.02</td>\n",
              "      <td>109825.846910</td>\n",
              "    </tr>\n",
              "    <tr>\n",
              "      <th>12</th>\n",
              "      <td>141585.52</td>\n",
              "      <td>128237.610148</td>\n",
              "    </tr>\n",
              "    <tr>\n",
              "      <th>38</th>\n",
              "      <td>81229.06</td>\n",
              "      <td>52270.993021</td>\n",
              "    </tr>\n",
              "    <tr>\n",
              "      <th>10</th>\n",
              "      <td>146121.95</td>\n",
              "      <td>134210.120509</td>\n",
              "    </tr>\n",
              "    <tr>\n",
              "      <th>42</th>\n",
              "      <td>71498.49</td>\n",
              "      <td>62450.999878</td>\n",
              "    </tr>\n",
              "    <tr>\n",
              "      <th>19</th>\n",
              "      <td>122776.86</td>\n",
              "      <td>103457.798860</td>\n",
              "    </tr>\n",
              "  </tbody>\n",
              "</table>\n",
              "</div>\n",
              "      <button class=\"colab-df-convert\" onclick=\"convertToInteractive('df-baa55845-62dd-4945-a78c-e87b4c184d32')\"\n",
              "              title=\"Convert this dataframe to an interactive table.\"\n",
              "              style=\"display:none;\">\n",
              "        \n",
              "  <svg xmlns=\"http://www.w3.org/2000/svg\" height=\"24px\"viewBox=\"0 0 24 24\"\n",
              "       width=\"24px\">\n",
              "    <path d=\"M0 0h24v24H0V0z\" fill=\"none\"/>\n",
              "    <path d=\"M18.56 5.44l.94 2.06.94-2.06 2.06-.94-2.06-.94-.94-2.06-.94 2.06-2.06.94zm-11 1L8.5 8.5l.94-2.06 2.06-.94-2.06-.94L8.5 2.5l-.94 2.06-2.06.94zm10 10l.94 2.06.94-2.06 2.06-.94-2.06-.94-.94-2.06-.94 2.06-2.06.94z\"/><path d=\"M17.41 7.96l-1.37-1.37c-.4-.4-.92-.59-1.43-.59-.52 0-1.04.2-1.43.59L10.3 9.45l-7.72 7.72c-.78.78-.78 2.05 0 2.83L4 21.41c.39.39.9.59 1.41.59.51 0 1.02-.2 1.41-.59l7.78-7.78 2.81-2.81c.8-.78.8-2.07 0-2.86zM5.41 20L4 18.59l7.72-7.72 1.47 1.35L5.41 20z\"/>\n",
              "  </svg>\n",
              "      </button>\n",
              "      \n",
              "  <style>\n",
              "    .colab-df-container {\n",
              "      display:flex;\n",
              "      flex-wrap:wrap;\n",
              "      gap: 12px;\n",
              "    }\n",
              "\n",
              "    .colab-df-convert {\n",
              "      background-color: #E8F0FE;\n",
              "      border: none;\n",
              "      border-radius: 50%;\n",
              "      cursor: pointer;\n",
              "      display: none;\n",
              "      fill: #1967D2;\n",
              "      height: 32px;\n",
              "      padding: 0 0 0 0;\n",
              "      width: 32px;\n",
              "    }\n",
              "\n",
              "    .colab-df-convert:hover {\n",
              "      background-color: #E2EBFA;\n",
              "      box-shadow: 0px 1px 2px rgba(60, 64, 67, 0.3), 0px 1px 3px 1px rgba(60, 64, 67, 0.15);\n",
              "      fill: #174EA6;\n",
              "    }\n",
              "\n",
              "    [theme=dark] .colab-df-convert {\n",
              "      background-color: #3B4455;\n",
              "      fill: #D2E3FC;\n",
              "    }\n",
              "\n",
              "    [theme=dark] .colab-df-convert:hover {\n",
              "      background-color: #434B5C;\n",
              "      box-shadow: 0px 1px 3px 1px rgba(0, 0, 0, 0.15);\n",
              "      filter: drop-shadow(0px 1px 2px rgba(0, 0, 0, 0.3));\n",
              "      fill: #FFFFFF;\n",
              "    }\n",
              "  </style>\n",
              "\n",
              "      <script>\n",
              "        const buttonEl =\n",
              "          document.querySelector('#df-baa55845-62dd-4945-a78c-e87b4c184d32 button.colab-df-convert');\n",
              "        buttonEl.style.display =\n",
              "          google.colab.kernel.accessAllowed ? 'block' : 'none';\n",
              "\n",
              "        async function convertToInteractive(key) {\n",
              "          const element = document.querySelector('#df-baa55845-62dd-4945-a78c-e87b4c184d32');\n",
              "          const dataTable =\n",
              "            await google.colab.kernel.invokeFunction('convertToInteractive',\n",
              "                                                     [key], {});\n",
              "          if (!dataTable) return;\n",
              "\n",
              "          const docLinkHtml = 'Like what you see? Visit the ' +\n",
              "            '<a target=\"_blank\" href=https://colab.research.google.com/notebooks/data_table.ipynb>data table notebook</a>'\n",
              "            + ' to learn more about interactive tables.';\n",
              "          element.innerHTML = '';\n",
              "          dataTable['output_type'] = 'display_data';\n",
              "          await google.colab.output.renderOutput(dataTable, element);\n",
              "          const docLink = document.createElement('div');\n",
              "          docLink.innerHTML = docLinkHtml;\n",
              "          element.appendChild(docLink);\n",
              "        }\n",
              "      </script>\n",
              "    </div>\n",
              "  </div>\n",
              "  "
            ]
          },
          "metadata": {},
          "execution_count": 35
        }
      ]
    },
    {
      "cell_type": "markdown",
      "source": [
        "## d. (2 pts) Finally, for the test dataset: a. Calculate coefficient of determination (𝑅2) and interpret the result b. Find MSE (mean of sum of squares of error (residual)"
      ],
      "metadata": {
        "id": "6Z9vMCbCJBP8"
      }
    },
    {
      "cell_type": "code",
      "source": [
        "# Calculate R2\n",
        "sum_sq_residuals = np.sum((y_test - y_pred)**2)\n",
        "sum_sq = np.sum((y_test - np.mean(y_test))**2)\n",
        "R2 = 1 - (sum_sq_residuals/sum_sq)\n",
        "print(\"R2: \", R2)\n",
        "\n",
        "# Calculate MSE\n",
        "MSE = np.mean((y_test - y_pred)**2)\n",
        "print(\"MSE: \", MSE)"
      ],
      "metadata": {
        "colab": {
          "base_uri": "https://localhost:8080/"
        },
        "id": "08v_0WLLKl79",
        "outputId": "5694da4b-83ba-4bf0-8315-58b3bce3fd49"
      },
      "execution_count": null,
      "outputs": [
        {
          "output_type": "stream",
          "name": "stdout",
          "text": [
            "R2:  0.8375672436576448\n",
            "MSE:  196691386.01213413\n"
          ]
        }
      ]
    },
    {
      "cell_type": "markdown",
      "source": [
        "**Interpretation** - The R squared value indicates that the model explains about 83.74 % of the variability of the target (profit) column based on the independant variables and it is reasonably a good fit for the dataset. However the mean squared error is higher which suggests that there may be still some unexplained variability in the dependent variable that the model is not able to capture. Overall, the model seems to be a reasonably good fit for the data, but it is not perfect."
      ],
      "metadata": {
        "id": "rTrc-ESuNeiM"
      }
    }
  ]
}